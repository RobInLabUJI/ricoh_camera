{
 "cells": [
  {
   "cell_type": "markdown",
   "metadata": {},
   "source": [
    "# Stereo Video Capture\n",
    "\n",
    "For stereo video capturing, both Ricoh Theta S cameras should be started in [Live Streaming mode](http://theta360.guide/community-document/live-streaming.html#_theta_s_live_streaming_mode), and properly connected to each USB3.0 video device capture, which in turn are plugged into the computer. You may also keep the cameras connected to the computer with the USB cable for battery charging."
   ]
  },
  {
   "cell_type": "markdown",
   "metadata": {},
   "source": [
    "The `capture_stereo.launch` script will read the video streams and display the images in two `image_view` windows."
   ]
  },
  {
   "cell_type": "code",
   "execution_count": null,
   "metadata": {},
   "outputs": [],
   "source": [
    "roslaunch ricoh_camera capture_stereo.launch"
   ]
  },
  {
   "cell_type": "markdown",
   "metadata": {},
   "source": [
    "The displayed images should look like these ones:\n",
    "\n",
    "| bottom | top   |\n",
    "|------|------|\n",
    "| <img src=\"img/capture_example_bottom.png\" />  | <img src=\"img/capture_example_top.png\" /> |"
   ]
  },
  {
   "cell_type": "markdown",
   "metadata": {},
   "source": [
    "## Nodes\n",
    "\n",
    "### capture_stereo.py\n",
    "\n",
    "Simple grabber application with OpenCV for two cameras.\n",
    "\n",
    "#### Published topics\n",
    "\n",
    "* `bottom/image_raw` ([sensor_msgs/Image](http://docs.ros.org/api/sensor_msgs/html/msg/Image.html)) <br>\n",
    "The image topic containing the two raw fisheye images of the bottom camera.\n",
    "* `top/image_raw` ([sensor_msgs/Image](http://docs.ros.org/api/sensor_msgs/html/msg/Image.html)) <br>\n",
    "The image topic containing the two raw fisheye images of the top camera.\n",
    "\n",
    "#### Parameters\n",
    "\n",
    "* `video_input_bottom` (`int`, default: 0) <br>\n",
    "The video device number of the bottom camera.\n",
    "* `video_input_top` (`int`, default: 1) <br>\n",
    "The video device number of the top camera.\n",
    "* `resolution` (`int`, default: 1280) <br>\n",
    "The horizontal video resolution, 1280 or 1920.\n",
    "* `frequency` (`int`, default: 30) <br>\n",
    "The framegrabber frequency, between 1 and 30 Hz."
   ]
  },
  {
   "cell_type": "markdown",
   "metadata": {},
   "source": [
    "## Examples"
   ]
  },
  {
   "cell_type": "code",
   "execution_count": null,
   "metadata": {},
   "outputs": [],
   "source": [
    "roslaunch ricoh_camera capture_stereo.launch resolution:=1920"
   ]
  },
  {
   "cell_type": "code",
   "execution_count": null,
   "metadata": {},
   "outputs": [],
   "source": [
    "roslaunch ricoh_camera capture_stereo.launch frequency:=1"
   ]
  },
  {
   "cell_type": "markdown",
   "metadata": {},
   "source": [
    "## Implementation\n",
    "\n",
    "The capture node uses [OpenCV functions for video capture](https://docs.opencv.org/3.3.1/d8/dfe/classcv_1_1VideoCapture.html).\n",
    "\n",
    "Particularly, it uses the [grab()](https://docs.opencv.org/3.3.1/d8/dfe/classcv_1_1VideoCapture.html#ae38c2a053d39d6b20c9c649e08ff0146) and [retrieve()](https://docs.opencv.org/3.3.1/d8/dfe/classcv_1_1VideoCapture.html#a9ac7f4b1cdfe624663478568486e6712) functions instead of [read()](https://docs.opencv.org/3.3.1/d8/dfe/classcv_1_1VideoCapture.html#a473055e77dd7faa4d26d686226b292c1). Such functions are recommended in multi-camera environments, especially when the cameras do not have hardware synchronization. That is, you call [`VideoCapture::grab()`](https://docs.opencv.org/3.3.1/d8/dfe/classcv_1_1VideoCapture.html#ae38c2a053d39d6b20c9c649e08ff0146) for each camera and after that call the slower method [`VideoCapture::retrieve()`](https://docs.opencv.org/3.3.1/d8/dfe/classcv_1_1VideoCapture.html#a9ac7f4b1cdfe624663478568486e6712) to decode and get frame from each camera. This way the overhead on demosaicing or motion jpeg decompression etc. is eliminated and the retrieved frames from different cameras will be closer in time."
   ]
  }
 ],
 "metadata": {
  "kernelspec": {
   "display_name": "Bash",
   "language": "bash",
   "name": "bash"
  },
  "language_info": {
   "codemirror_mode": "shell",
   "file_extension": ".sh",
   "mimetype": "text/x-sh",
   "name": "bash"
  }
 },
 "nbformat": 4,
 "nbformat_minor": 2
}
