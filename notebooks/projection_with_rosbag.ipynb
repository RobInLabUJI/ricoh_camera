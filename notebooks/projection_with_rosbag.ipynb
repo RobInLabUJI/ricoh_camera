{
 "cells": [
  {
   "cell_type": "markdown",
   "metadata": {},
   "source": [
    "# Using rosbags"
   ]
  },
  {
   "cell_type": "code",
   "execution_count": 1,
   "metadata": {},
   "outputs": [
    {
     "name": "stdout",
     "output_type": "stream",
     "text": [
      "\u001b[0m[ INFO] [1562313227.870348399]: Subscribing to /bottom/back/image_raw\u001b[0m\n",
      "\u001b[0m[ INFO] [1562313227.887165733]: Subscribing to /bottom/front/image_raw\u001b[0m\n",
      "\u001b[0m[ INFO] [1562313227.901908029]: Subscribing to /top/back/image_raw\u001b[0m\n",
      "\u001b[0m[ INFO] [1562313227.914203878]: Subscribing to /top/front/image_raw\u001b[0m\n",
      "\u001b[0m[ INFO] [1562313227.933275994]: Recording to stereo_2019-07-05-09-53-47.bag.\u001b[0m\n"
     ]
    }
   ],
   "source": [
    "cd ~/Desktop/rosbags/\n",
    "rosbag record --duration=60s --output-prefix=stereo \\\n",
    "  /top/front/image_raw /top/back/image_raw /bottom/front/image_raw /bottom/back/image_raw"
   ]
  },
  {
   "cell_type": "code",
   "execution_count": 5,
   "metadata": {},
   "outputs": [
    {
     "name": "stdout",
     "output_type": "stream",
     "text": [
      "\u001b[0m[ INFO] [1562313743.301155182]: Opening stereo_2019-07-05-09-53-47.bag\u001b[0m\n",
      "\n",
      "Waiting 0.2 seconds after advertising topics... done.\n",
      "\n",
      "Hit space to toggle paused, or 's' to step.\n",
      " [RUNNING]  Bag Time: 1562313287.913120   Duration: 59.766494 / 59.769544               \n",
      "Done.\n"
     ]
    }
   ],
   "source": [
    "cd ~/Desktop/rosbags/\n",
    "rosbag play --clock --rate 0.333 stereo_2019-07-05-09-53-47.bag"
   ]
  },
  {
   "cell_type": "code",
   "execution_count": null,
   "metadata": {},
   "outputs": [],
   "source": []
  }
 ],
 "metadata": {
  "kernelspec": {
   "display_name": "Bash",
   "language": "bash",
   "name": "bash"
  },
  "language_info": {
   "codemirror_mode": "shell",
   "file_extension": ".sh",
   "mimetype": "text/x-sh",
   "name": "bash"
  }
 },
 "nbformat": 4,
 "nbformat_minor": 2
}
