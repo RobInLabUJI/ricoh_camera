{
 "cells": [
  {
   "cell_type": "markdown",
   "metadata": {},
   "source": [
    "# Using rosbags\n",
    "\n",
    "IMPORTANT: before saving a rosbag, please remember to launch the capture and split processes, either for a single camera or the stereo system. The capture can be set at full frame rate (30 Hz)."
   ]
  },
  {
   "cell_type": "code",
   "execution_count": 1,
   "metadata": {},
   "outputs": [
    {
     "name": "stdout",
     "output_type": "stream",
     "text": [
      "\u001b[0m[ INFO] [1562313227.870348399]: Subscribing to /bottom/back/image_raw\u001b[0m\n",
      "\u001b[0m[ INFO] [1562313227.887165733]: Subscribing to /bottom/front/image_raw\u001b[0m\n",
      "\u001b[0m[ INFO] [1562313227.901908029]: Subscribing to /top/back/image_raw\u001b[0m\n",
      "\u001b[0m[ INFO] [1562313227.914203878]: Subscribing to /top/front/image_raw\u001b[0m\n",
      "\u001b[0m[ INFO] [1562313227.933275994]: Recording to stereo_2019-07-05-09-53-47.bag.\u001b[0m\n"
     ]
    }
   ],
   "source": [
    "cd ~/Desktop/rosbags/\n",
    "rosbag record --duration=60s --output-prefix=stereo \\\n",
    "  /top/front/image_raw /top/back/image_raw /bottom/front/image_raw /bottom/back/image_raw"
   ]
  },
  {
   "cell_type": "markdown",
   "metadata": {},
   "source": [
    "## Playing\n",
    "\n",
    "For processing the rosbag file, you should first launch the equirectangular projection process, mono or stereo, then play the rosbag file with the appropriate rate factor (e.g. if the capture rate is 30 Hz, the rate factor should be 1/3 to cope with the lower rate of the projection process, 10 Hz in the laptop).\n",
    "\n",
    "Playing cannot be paused in the notebook; you should copy, paste, and run the command in a terminal.\n",
    "\n",
    "The following command plays back all the image topics recorded in the stereo system:"
   ]
  },
  {
   "cell_type": "code",
   "execution_count": null,
   "metadata": {},
   "outputs": [],
   "source": [
    "cd ~/Desktop/rosbags/\n",
    "rosbag play --clock --rate 0.333 stereo_2019-07-05-09-53-47.bag"
   ]
  },
  {
   "cell_type": "markdown",
   "metadata": {},
   "source": [
    "For estimation of stereo disparity, the frame rate is 2 Hz, so the factor is 1/15."
   ]
  },
  {
   "cell_type": "code",
   "execution_count": null,
   "metadata": {},
   "outputs": [],
   "source": [
    "cd ~/Desktop/rosbags/\n",
    "rosbag play --clock --rate 0.0666 stereo_2019-07-05-09-53-47.bag"
   ]
  },
  {
   "cell_type": "markdown",
   "metadata": {},
   "source": [
    "### Single camera\n",
    "If you want to play back the image topics of one of the cameras only, just remap the topics as follows for either the top or the bottom camera:"
   ]
  },
  {
   "cell_type": "code",
   "execution_count": null,
   "metadata": {},
   "outputs": [],
   "source": [
    "cd ~/Desktop/rosbags/\n",
    "rosbag play --clock --rate 0.333 stereo_2019-07-05-09-53-47.bag \\\n",
    "  /top/front/image_raw:=/front/image_raw /top/back/image_raw:=/back/image_raw"
   ]
  },
  {
   "cell_type": "code",
   "execution_count": null,
   "metadata": {},
   "outputs": [],
   "source": [
    "cd ~/Desktop/rosbags/\n",
    "rosbag play --clock --rate 0.333 stereo_2019-07-05-09-53-47.bag \\\n",
    "  /bottom/front/image_raw:=/front/image_raw /bottom/back/image_raw:=/back/image_raw"
   ]
  }
 ],
 "metadata": {
  "kernelspec": {
   "display_name": "Bash",
   "language": "bash",
   "name": "bash"
  },
  "language_info": {
   "codemirror_mode": "shell",
   "file_extension": ".sh",
   "mimetype": "text/x-sh",
   "name": "bash"
  }
 },
 "nbformat": 4,
 "nbformat_minor": 2
}
