{
 "cells": [
  {
   "cell_type": "code",
   "execution_count": null,
   "metadata": {},
   "outputs": [],
   "source": [
    "roslaunch ricoh_camera save_images.launch"
   ]
  },
  {
   "cell_type": "markdown",
   "metadata": {},
   "source": [
    "Images are saved as `rgbXXXX.png` and `depthXXXX.png` in the `.ros` directory of the `$HOME` folder."
   ]
  },
  {
   "cell_type": "markdown",
   "metadata": {},
   "source": [
    "The images can be read by the `perception360` modules as `rgbd360` data, but the following modifications are necessary in the `rgb360.h` file:\n",
    "\n",
    "        static constexpr float height = 640;\n",
    "        static constexpr float width =  1280;\n",
    "        static constexpr float phi_min = -PI/2;\n",
    "        static constexpr float phi_max =  PI/2;"
   ]
  }
 ],
 "metadata": {
  "kernelspec": {
   "display_name": "Bash",
   "language": "bash",
   "name": "bash"
  },
  "language_info": {
   "codemirror_mode": "shell",
   "file_extension": ".sh",
   "mimetype": "text/x-sh",
   "name": "bash"
  }
 },
 "nbformat": 4,
 "nbformat_minor": 2
}
