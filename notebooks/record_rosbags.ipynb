{
 "cells": [
  {
   "cell_type": "markdown",
   "metadata": {},
   "source": [
    "# Record rosbags\n",
    "Rosbags of images can be easily recorded with the ROS tools.\n",
    "\n",
    "First, you should launch the video capture node, either for [one camera](capture.ipynb) or the [stereo system](stereo_capture.ipynb).\n",
    "\n",
    "Second, launch the [splitter node](splitting.ipynb), also for one camera or the stereo system."
   ]
  },
  {
   "cell_type": "markdown",
   "metadata": {},
   "source": [
    "## Record a rosbag of one camera\n",
    "Assuming that you have already launched the capture and split scripts for one camera (e.g. the top camera), let's launch the rosbag record tool for saving 15 seconds of images. The rosbags are saved in the folder `~Desktop/rosbags`:"
   ]
  },
  {
   "cell_type": "code",
   "execution_count": 1,
   "metadata": {},
   "outputs": [
    {
     "name": "stdout",
     "output_type": "stream",
     "text": [
      "\u001b[0m[ INFO] [1562222543.705552098]: Subscribing to /back/image_raw\u001b[0m\n",
      "\u001b[0m[ INFO] [1562222543.710892908]: Subscribing to /front/image_raw\u001b[0m\n",
      "\u001b[0m[ INFO] [1562222543.718621723]: Recording to top_2019-07-04-08-42-23.bag.\u001b[0m\n"
     ]
    }
   ],
   "source": [
    "cd ~/Desktop/rosbags/\n",
    "rosbag record --duration=15s --output-prefix=top /front/image_raw /back/image_raw"
   ]
  },
  {
   "cell_type": "markdown",
   "metadata": {},
   "source": [
    "The recorded bag can be checked with the ROS tools; this is the output of a recorded example:"
   ]
  },
  {
   "cell_type": "code",
   "execution_count": 3,
   "metadata": {},
   "outputs": [
    {
     "name": "stdout",
     "output_type": "stream",
     "text": [
      "path:        /home/ricoh/Desktop/rosbags/top_2019-07-04-08-42-23.bag\n",
      "version:     2.0\n",
      "duration:    14.7s\n",
      "start:       Jul 04 2019 08:42:23.97 (1562222543.97)\n",
      "end:         Jul 04 2019 08:42:38.70 (1562222558.70)\n",
      "size:        1.0 GB\n",
      "messages:    886\n",
      "compression: none [886/886 chunks]\n",
      "types:       sensor_msgs/Image [060021388200f6f0f447d0fcd9c64743]\n",
      "topics:      /back/image_raw    443 msgs    : sensor_msgs/Image\n",
      "             /front/image_raw   443 msgs    : sensor_msgs/Image\n"
     ]
    }
   ],
   "source": [
    "rosbag info ~/Desktop/rosbags/top_2019-07-04-08-42-23.bag"
   ]
  },
  {
   "cell_type": "markdown",
   "metadata": {},
   "source": [
    "## Record a rosbag of the stereo system\n",
    "Assuming that you have already launched the capture and split scripts for the stereo system, let's launch the rosbag record tool for saving 15 seconds of images. The rosbags are saved in the folder `~Desktop/rosbags`:"
   ]
  },
  {
   "cell_type": "code",
   "execution_count": 4,
   "metadata": {},
   "outputs": [
    {
     "name": "stdout",
     "output_type": "stream",
     "text": [
      "\u001b[0m[ INFO] [1562222937.126998642]: Subscribing to /bottom/back/image_raw\u001b[0m\n",
      "\u001b[0m[ INFO] [1562222937.132890260]: Subscribing to /bottom/front/image_raw\u001b[0m\n",
      "\u001b[0m[ INFO] [1562222937.142096351]: Subscribing to /top/back/image_raw\u001b[0m\n",
      "\u001b[0m[ INFO] [1562222937.153807707]: Subscribing to /top/front/image_raw\u001b[0m\n",
      "\u001b[0m[ INFO] [1562222937.170946375]: Recording to stereo_2019-07-04-08-48-57.bag.\u001b[0m\n"
     ]
    }
   ],
   "source": [
    "cd ~/Desktop/rosbags/\n",
    "rosbag record --duration=15s --output-prefix=stereo \\\n",
    "  /top/front/image_raw /top/back/image_raw /bottom/front/image_raw /bottom/back/image_raw"
   ]
  },
  {
   "cell_type": "markdown",
   "metadata": {},
   "source": [
    "The recorded bag can be checked with the ROS tools; this is the output of a recorded example:"
   ]
  },
  {
   "cell_type": "code",
   "execution_count": 6,
   "metadata": {},
   "outputs": [
    {
     "name": "stdout",
     "output_type": "stream",
     "text": [
      "path:        /home/ricoh/Desktop/rosbags/stereo_2019-07-04-08-48-57.bag\n",
      "version:     2.0\n",
      "duration:    14.8s\n",
      "start:       Jul 04 2019 08:48:57.39 (1562222937.39)\n",
      "end:         Jul 04 2019 08:49:12.16 (1562222952.16)\n",
      "size:        2.0 GB\n",
      "messages:    1776\n",
      "compression: none [1776/1776 chunks]\n",
      "types:       sensor_msgs/Image [060021388200f6f0f447d0fcd9c64743]\n",
      "topics:      /bottom/back/image_raw    444 msgs    : sensor_msgs/Image\n",
      "             /bottom/front/image_raw   444 msgs    : sensor_msgs/Image\n",
      "             /top/back/image_raw       444 msgs    : sensor_msgs/Image\n",
      "             /top/front/image_raw      444 msgs    : sensor_msgs/Image\n"
     ]
    }
   ],
   "source": [
    "rosbag info ~/Desktop/rosbags/stereo_2019-07-04-08-48-57.bag"
   ]
  },
  {
   "cell_type": "markdown",
   "metadata": {},
   "source": [
    "We can also use `rqt_bag` to analyse the recorded topics, e.g. the timestamps of the images:\n",
    "\n",
    "<img src=\"img/rqt_bag_example.png\" />\n",
    "\n",
    "In this example, it can be seen that the difference of timestamps between the bottom and top camera is less than 1 millisecond."
   ]
  }
 ],
 "metadata": {
  "kernelspec": {
   "display_name": "Bash",
   "language": "bash",
   "name": "bash"
  },
  "language_info": {
   "codemirror_mode": "shell",
   "file_extension": ".sh",
   "mimetype": "text/x-sh",
   "name": "bash"
  }
 },
 "nbformat": 4,
 "nbformat_minor": 2
}
