{
 "cells": [
  {
   "cell_type": "markdown",
   "metadata": {},
   "source": [
    "# Equirectangular projection of stereo system\n",
    "\n",
    "The fisheye images of the stereo system can be projected into two equirectangular images, for the top and bottom cameras respectively.\n",
    "\n",
    "First, you should launch the [stereo capture node](stereo_capture.ipynb). <br>IMPORTANT: in the laptop, full frame rate cannot be achieved, so choose a lower frequency, e.g. 10Hz.\n",
    "\n",
    "Second, launch the [splitter node](splitting.ipynb) (for the stereo system).\n",
    "\n",
    "Finally, launch the projection nodes with:"
   ]
  },
  {
   "cell_type": "code",
   "execution_count": null,
   "metadata": {},
   "outputs": [],
   "source": [
    "roslaunch ricoh_camera stereo_project_eqrect.launch \\\n",
    "  rho_limit_top:=95    baseline_top:=0.0129 \\\n",
    "  rho_limit_bottom:=95 baseline_bottom:=0.0167"
   ]
  },
  {
   "cell_type": "markdown",
   "metadata": {},
   "source": [
    "The equirectangular images will be displayed in two new windows."
   ]
  }
 ],
 "metadata": {
  "kernelspec": {
   "display_name": "Bash",
   "language": "bash",
   "name": "bash"
  },
  "language_info": {
   "codemirror_mode": "shell",
   "file_extension": ".sh",
   "mimetype": "text/x-sh",
   "name": "bash"
  }
 },
 "nbformat": 4,
 "nbformat_minor": 2
}
