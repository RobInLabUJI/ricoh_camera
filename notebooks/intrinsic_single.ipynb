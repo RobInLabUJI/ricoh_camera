{
 "cells": [
  {
   "cell_type": "markdown",
   "metadata": {},
   "source": [
    "# Intrinsic calibration of a single camera\n",
    "For the calibration of the fisheye cameras, several models are available:\n",
    "\n",
    "* Unified camera model ([Mei & Rives, 2007](https://ieeexplore.ieee.org/abstract/document/4209702))\n",
    "* Extended unified camera model ([Khomutenko et al., 2015](https://ieeexplore.ieee.org/abstract/document/7342909))\n",
    "* Double sphere camera model ([Usenko et al., 2018](https://ieeexplore.ieee.org/abstract/document/8491007))\n",
    "\n",
    "We will use the [Kalibr package for camera calibration](https://github.com/ethz-asl/kalibr); though the package can be installed natively in Ubuntu, we recommend the use of an available [Docker image](https://hub.docker.com/r/davvdg/ros-kalibr/).\n",
    "\n",
    "The Docker image is already built in the laptop. If necessary, it can be rebuilt with:"
   ]
  },
  {
   "cell_type": "code",
   "execution_count": null,
   "metadata": {},
   "outputs": [],
   "source": [
    "cd ~/Desktop/ros-kalibr\n",
    "docker build -t ros-kalibr ."
   ]
  },
  {
   "cell_type": "markdown",
   "metadata": {},
   "source": [
    "## Recording rosbags for calibration\n",
    "\n",
    "First, you should launch the video capture node for [one camera](capture.ipynb).\n",
    "IMPORTANT: set a low frequency (1 Hz) to avoid recording a lot of similar images.\n",
    "\n",
    "Second, launch the [splitter node](splitting.ipynb), also for one camera.\n",
    "\n",
    "Finally, let's launch the rosbag record tool for saving 100 images. \n",
    "\n",
    "Since we will calibrate each camera separately, we record one rosbag for the front camera, and another for the back camera.\n",
    "\n",
    "As previously, the rosbags are saved in the folder `~Desktop/rosbags`.\n",
    "\n",
    "IMPORTANT: remember to move the checkerboard to different positions in front of the camera while the rosbag is being recorded."
   ]
  },
  {
   "cell_type": "code",
   "execution_count": 2,
   "metadata": {},
   "outputs": [
    {
     "name": "stdout",
     "output_type": "stream",
     "text": [
      "\u001b[0m[ INFO] [1562227087.590182636]: Subscribing to /front/image_raw\u001b[0m\n",
      "\u001b[0m[ INFO] [1562227087.596153495]: Recording to top_2019-07-04-09-58-07.bag.\u001b[0m\n"
     ]
    }
   ],
   "source": [
    "cd ~/Desktop/rosbags/\n",
    "rosbag record --limit=100 --output-prefix=top /front/image_raw"
   ]
  },
  {
   "cell_type": "code",
   "execution_count": 3,
   "metadata": {},
   "outputs": [
    {
     "name": "stdout",
     "output_type": "stream",
     "text": [
      "\u001b[0m[ INFO] [1562227306.378474217]: Subscribing to /back/image_raw\u001b[0m\n",
      "\u001b[0m[ INFO] [1562227306.384585155]: Recording to top_2019-07-04-10-01-46.bag.\u001b[0m\n"
     ]
    }
   ],
   "source": [
    "cd ~/Desktop/rosbags/\n",
    "rosbag record --limit=100 --output-prefix=top /back/image_raw"
   ]
  },
  {
   "cell_type": "markdown",
   "metadata": {},
   "source": [
    "## Calibrating\n",
    "\n",
    "First, the rosbag files are copied into the calibration folder."
   ]
  },
  {
   "cell_type": "code",
   "execution_count": null,
   "metadata": {},
   "outputs": [],
   "source": [
    "cp ~/Desktop/rosbags/top_2019-07-04-09-58-07.bag \\\n",
    "   ~/Desktop/rosbags/top_2019-07-04-10-01-46.bag \\\n",
    "   ~/Desktop/RicohTheta_ws/src/ricoh_camera/notebooks/calibration/"
   ]
  },
  {
   "cell_type": "markdown",
   "metadata": {},
   "source": [
    "Now, the calibration script is executed.\n",
    "It has three arguments:\n",
    "* camera model: `omni-radtan` | `eucm-none` | `ds-none`\n",
    "* prefix of the image topic: `front` | `back`\n",
    "* rosbag filename\n",
    "\n",
    "We use the Unified Camera Model (`omni-radtan`).\n",
    "\n",
    "So we calibrate the front camera."
   ]
  },
  {
   "cell_type": "code",
   "execution_count": null,
   "metadata": {},
   "outputs": [],
   "source": [
    "cd ~/Desktop/RicohTheta_ws/src/ricoh_camera/notebooks/calibration/\n",
    "./kalibr_single_camera.bash omni-radtan front top_2019-07-04-09-58-07.bag"
   ]
  },
  {
   "cell_type": "markdown",
   "metadata": {},
   "source": [
    "Finally, the calibration script is executed for the second rosbag (back camera)."
   ]
  },
  {
   "cell_type": "code",
   "execution_count": null,
   "metadata": {},
   "outputs": [],
   "source": [
    "cd ~/Desktop/RicohTheta_ws/src/ricoh_camera/notebooks/calibration/\n",
    "./kalibr_single_camera.bash omni-radtan back top_2019-07-04-10-01-46.bag"
   ]
  },
  {
   "cell_type": "markdown",
   "metadata": {},
   "source": [
    "### Calibration results (Unified Camera Model)\n",
    "* Front camera: [Results](calibration/omni-radtan/results-cam-top_2019-07-04-09-58-07.txt); [Report](calibration/omni-radtan/report-cam-top_2019-07-04-09-58-07.pdf)\n",
    "* Back camera: [Results](calibration/omni-radtan/results-cam-top_2019-07-04-10-01-46.txt); [Report](calibration/omni-radtan/report-cam-top_2019-07-04-10-01-46.pdf)"
   ]
  },
  {
   "cell_type": "markdown",
   "metadata": {},
   "source": [
    "### Other camera models\n",
    "\n",
    "We can calibrate the cameras with the other available models:"
   ]
  },
  {
   "cell_type": "code",
   "execution_count": null,
   "metadata": {},
   "outputs": [],
   "source": [
    "cd ~/Desktop/RicohTheta_ws/src/ricoh_camera/notebooks/calibration/\n",
    "./kalibr_single_camera.bash eucm-none front top_2019-07-04-09-58-07.bag\n",
    "./kalibr_single_camera.bash eucm-none back top_2019-07-04-10-01-46.bag"
   ]
  },
  {
   "cell_type": "code",
   "execution_count": null,
   "metadata": {},
   "outputs": [],
   "source": [
    "cd ~/Desktop/RicohTheta_ws/src/ricoh_camera/notebooks/calibration/\n",
    "./kalibr_single_camera.bash ds-none front top_2019-07-04-09-58-07.bag\n",
    "./kalibr_single_camera.bash ds-none back top_2019-07-04-10-01-46.bag"
   ]
  },
  {
   "cell_type": "markdown",
   "metadata": {},
   "source": [
    "##### Results\n",
    "* Extended Unified Camera Model\n",
    "  * Front camera: [Results](calibration/eucm-none/results-cam-top_2019-07-04-09-58-07.txt); [Report](calibration/eucm-none/report-cam-top_2019-07-04-09-58-07.pdf)\n",
    "  * Back camera: [Results](calibration/eucm-none/results-cam-top_2019-07-04-10-01-46.txt); [Report](calibration/eucm-none/report-cam-top_2019-07-04-10-01-46.pdf)\n",
    "* Double Sphere Camera Model\n",
    "  * Front camera: [Results](calibration/ds-none/results-cam-top_2019-07-04-09-58-07.txt); [Report](calibration/ds-none/report-cam-top_2019-07-04-09-58-07.pdf)\n",
    "  * Back camera: [Results](calibration/ds-none/results-cam-top_2019-07-04-10-01-46.txt); [Report](calibration/ds-none/report-cam-top_2019-07-04-10-01-46.pdf)"
   ]
  }
 ],
 "metadata": {
  "kernelspec": {
   "display_name": "Bash",
   "language": "bash",
   "name": "bash"
  },
  "language_info": {
   "codemirror_mode": "shell",
   "file_extension": ".sh",
   "mimetype": "text/x-sh",
   "name": "bash"
  }
 },
 "nbformat": 4,
 "nbformat_minor": 2
}
