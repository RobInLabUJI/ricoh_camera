{
 "cells": [
  {
   "cell_type": "markdown",
   "metadata": {},
   "source": [
    "# Splitting Images\n",
    "\n",
    "The raw image from the Ricoh Theta S camera consists of two fisheye images, which are rotated because of the configuration of lenses and mirrors of the system.\n",
    "\n",
    "This node splits the raw image topic into two image topics (front and back) and rotates the images so they become upstanding. The timestamps of the published images remains the same as the subscribed topic."
   ]
  },
  {
   "cell_type": "markdown",
   "metadata": {},
   "source": [
    "## One camera\n",
    "First, you should launch the [video capture node in the corresponding notebook](capture.ipynb).\n",
    "\n",
    "Second, launch the splitter node with the command:"
   ]
  },
  {
   "cell_type": "code",
   "execution_count": null,
   "metadata": {},
   "outputs": [],
   "source": [
    "roslaunch ricoh_camera splitter.launch"
   ]
  },
  {
   "cell_type": "markdown",
   "metadata": {},
   "source": [
    "## Stereo system\n",
    "First, you should launch the [video capture nodes in the corresponding notebook](stereo_capture.ipynb).\n",
    "\n",
    "Second, launch the splitter nodes with the command:"
   ]
  },
  {
   "cell_type": "code",
   "execution_count": null,
   "metadata": {},
   "outputs": [],
   "source": [
    "roslaunch ricoh_camera stereo_splitter.launch"
   ]
  },
  {
   "cell_type": "markdown",
   "metadata": {},
   "source": [
    "## Nodes\n",
    "\n",
    "### splitter.py\n",
    "\n",
    "This node splits the dual-fisheye image topic into two separate image topics. It also rotates the images to make them appear upstanding.\n",
    "\n",
    "#### Subscribed topics\n",
    "\n",
    "* `image_raw` ([sensor_msgs/Image](http://docs.ros.org/api/sensor_msgs/html/msg/Image.html)) <br>\n",
    "The image topic containing the two raw fisheye images.\n",
    "\n",
    "#### Published topics\n",
    "\n",
    "* `front/image_raw` ([sensor_msgs/Image](http://docs.ros.org/api/sensor_msgs/html/msg/Image.html)) <br>\n",
    "The image topic containing the front fisheye image.\n",
    "* `back/image_raw` ([sensor_msgs/Image](http://docs.ros.org/api/sensor_msgs/html/msg/Image.html)) <br>\n",
    "The image topic containing the back fisheye image.\n",
    "\n",
    "#### Parameters\n",
    "\n",
    "* `invert` (`bool`, default: False) <br>\n",
    "Set to True for turning the images upside-down (as in bottom camera).\n"
   ]
  },
  {
   "cell_type": "code",
   "execution_count": null,
   "metadata": {},
   "outputs": [],
   "source": []
  }
 ],
 "metadata": {
  "kernelspec": {
   "display_name": "Bash",
   "language": "bash",
   "name": "bash"
  },
  "language_info": {
   "codemirror_mode": "shell",
   "file_extension": ".sh",
   "mimetype": "text/x-sh",
   "name": "bash"
  }
 },
 "nbformat": 4,
 "nbformat_minor": 2
}
