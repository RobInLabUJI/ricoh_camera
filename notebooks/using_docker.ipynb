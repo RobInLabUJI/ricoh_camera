{
 "cells": [
  {
   "cell_type": "markdown",
   "metadata": {},
   "source": [
    "<a href=\"https://docs.docker.com/install/linux/docker-ce/ubuntu/\"><img style=\"float: right; height: 120px;\" src=\"img/docker.png\"></a>\n",
    "# Using Docker\n",
    "The package can be readily used with [Docker](https://docs.docker.com/install/linux/docker-ce/ubuntu/), a container virtualization technology, which is like a very lightweight virtual machine. It combines operating system virtualization, cross-platform portability, and modular re-usable systems, to address the challenge of computational reproducibility.\n",
    "\n",
    "First, the Docker image must be created with:"
   ]
  },
  {
   "cell_type": "code",
   "execution_count": null,
   "metadata": {},
   "outputs": [],
   "source": [
    "cd ~/Desktop/RicohTheta_ws/src/ricoh_camera"
   ]
  },
  {
   "cell_type": "code",
   "execution_count": null,
   "metadata": {},
   "outputs": [],
   "source": [
    "docker build -t ricoh_camera ."
   ]
  },
  {
   "cell_type": "markdown",
   "metadata": {},
   "source": [
    "Before launching the Docker container, access to the host display must be granted:"
   ]
  },
  {
   "cell_type": "code",
   "execution_count": null,
   "metadata": {},
   "outputs": [],
   "source": [
    "xhost +"
   ]
  },
  {
   "cell_type": "markdown",
   "metadata": {},
   "source": [
    "Finally, the capture script can be executed:"
   ]
  },
  {
   "cell_type": "code",
   "execution_count": null,
   "metadata": {},
   "outputs": [],
   "source": [
    "docker run --rm -e DISPLAY=$DISPLAY -v /tmp/.X11-unix:/tmp/.X11-unix \\\n",
    "  --device=/dev/video0:/dev/video0 ricoh_camera \\\n",
    "  roslaunch ricoh_camera capture.launch"
   ]
  },
  {
   "cell_type": "markdown",
   "metadata": {},
   "source": [
    "These error messages are usual, but everything should work:\n",
    "```\n",
    "libGL error: failed to open drm device: No such file or directory\n",
    "libGL error: failed to load driver: nouveau\n",
    "```"
   ]
  }
 ],
 "metadata": {
  "kernelspec": {
   "display_name": "Bash",
   "language": "bash",
   "name": "bash"
  },
  "language_info": {
   "codemirror_mode": "shell",
   "file_extension": ".sh",
   "mimetype": "text/x-sh",
   "name": "bash"
  }
 },
 "nbformat": 4,
 "nbformat_minor": 2
}
