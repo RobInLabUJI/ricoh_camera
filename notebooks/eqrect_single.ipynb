{
 "cells": [
  {
   "cell_type": "markdown",
   "metadata": {},
   "source": [
    "# Equirectangular projection\n",
    "\n",
    "The two fisheye images of the camera can be projected into an equirectangular image.\n",
    "\n",
    "First, you should launch the [video capture node](capture.ipynb). IMPORTANT: in the laptop, full frame rate cannot be achieved, so choose a lower frequency, e.g. 10Hz.\n",
    "\n",
    "Second, launch the [splitter node](splitting.ipynb) (for one camera).\n",
    "\n",
    "Finally, launch the projection node with the desired parameters of each camera:"
   ]
  },
  {
   "cell_type": "code",
   "execution_count": null,
   "metadata": {},
   "outputs": [],
   "source": [
    "roslaunch ricoh_camera project_eqrect.launch rho_limit:=95 baseline:=0.0129 # top camera"
   ]
  },
  {
   "cell_type": "code",
   "execution_count": null,
   "metadata": {},
   "outputs": [],
   "source": [
    "roslaunch ricoh_camera project_eqrect.launch rho_limit:=95 baseline:=0.0167 # bottom camera"
   ]
  },
  {
   "cell_type": "markdown",
   "metadata": {},
   "source": [
    "The equirectangular image will be displayed in a new window, as in this example.\n",
    "\n",
    "<img src=\"img/eqrect_example.png\" />\n",
    "\n",
    "The double-vision effects in the overlapping regions of the front and back cameras are due to the errors in the projection model. The effect can be minimized by a thorough calibration (both intrinsic and extrinsic), as seen in the following image:\n",
    "\n",
    "<img src=\"img/eqrect_example_good.png\" />"
   ]
  },
  {
   "cell_type": "markdown",
   "metadata": {},
   "source": [
    "## Nodes\n",
    "\n",
    "### project_eqrect.py\n",
    "\n",
    "Node that merges the front and back fisheye images into one equirectangular projection.\n",
    "\n",
    "#### Subscribed topics\n",
    "\n",
    "* `back/image_raw` ([sensor_msgs/Image](http://docs.ros.org/api/sensor_msgs/html/msg/Image.html)) <br>\n",
    "The image topic containing the back fisheye image.\n",
    "\n",
    "* `front/image_raw` ([sensor_msgs/Image](http://docs.ros.org/api/sensor_msgs/html/msg/Image.html)) <br>\n",
    "The image topic containing the front fisheye image.\n",
    "\n",
    "#### Published topics\n",
    "\n",
    "* `image_rect` ([sensor_msgs/Image](http://docs.ros.org/api/sensor_msgs/html/msg/Image.html)) <br>\n",
    "The image topic containing the equirectangular image.\n",
    "\n",
    "#### Parameters\n",
    "\n",
    "* `rho_limit` (`float`, default: 95.0) <br>\n",
    "The maximum polar angle in the projection the fisheye images.\n",
    "* `baseline` (`float`, default: 0.013) <br>\n",
    "The baseline between the front and back cameras.\n",
    "\n",
    "There are two options for the calibration files: \n",
    "  * a separate file for each camera\n",
    "    * `back_calib` (`string`) <br>\n",
    "The filename of the calibration file for the back camera.\n",
    "    * `front_calib` (`string`) <br>\n",
    "The filename of the calibration file for the front camera.\n",
    "  * a single file with the camera chain\n",
    "    * `camchain` (`string`) <br>\n",
    "The filename of the calibration file for several cameras.\n",
    "    * `back_cam_id` (`string`) <br>\n",
    "The name of the back camera in the calibration file.\n",
    "    * `front_cam_id` (`string`) <br>\n",
    "The name of the front camera in the calibration file."
   ]
  }
 ],
 "metadata": {
  "kernelspec": {
   "display_name": "Bash",
   "language": "bash",
   "name": "bash"
  },
  "language_info": {
   "codemirror_mode": "shell",
   "file_extension": ".sh",
   "mimetype": "text/x-sh",
   "name": "bash"
  }
 },
 "nbformat": 4,
 "nbformat_minor": 2
}
