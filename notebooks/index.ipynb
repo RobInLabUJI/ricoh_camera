{
 "cells": [
  {
   "cell_type": "markdown",
   "metadata": {},
   "source": [
    "<a href=\"https://theta360.com/en/about/theta/s.html\"><img style=\"float: right; height: 240px;\" src=\"img/ThetaS3.jpg\"></a>\n",
    "\n",
    "# ROS Ricoh Theta S package\n",
    "These notebooks document the ROS package for the [Ricoh Theta S camera](https://theta360.com/en/about/theta/s.html) developed by [RobInLab (UJI)](http://robinlab.uji.es/) and [Project Chorale (INRIA Sophia-Antipolis)](https://project.inria.fr/chorale/).\n",
    "\n",
    "The source code is available at https://github.com/RobInLabUJI/ricoh_camera. \n",
    "\n",
    "This package is written in Python 2.7 with OpenCV 3.3.1 and ROS Kinetic, and it contains scripts for video capture and equirectangular projection of fisheye images. It also contains some notebooks for testing and development.\n",
    "\n",
    "The package has been installed in the laptop computer, at the ROS workspace `~/Desktop/RicohTheta_ws`, it has been compiled with `catkin_make`, and the following lines have been added to `.bashrc`:\n",
    "\n",
    "```\n",
    "source /opt/ros/kinetic/setup.bash\n",
    "source ~/Desktop/RicohTheta_ws/devel/setup.bash\n",
    "```\n",
    "\n",
    "## Documentation\n",
    "\n",
    "* [Video Capture](capture.ipynb)\n",
    "* [Stereo Video Capture](stereo_capture.ipynb)"
   ]
  }
 ],
 "metadata": {
  "kernelspec": {
   "display_name": "Bash",
   "language": "bash",
   "name": "bash"
  },
  "language_info": {
   "codemirror_mode": "shell",
   "file_extension": ".sh",
   "mimetype": "text/x-sh",
   "name": "bash"
  }
 },
 "nbformat": 4,
 "nbformat_minor": 2
}
