{
 "cells": [
  {
   "cell_type": "markdown",
   "metadata": {},
   "source": [
    "<a href=\"https://theta360.com/en/about/theta/s.html\"><img style=\"float: right; height: 240px;\" src=\"img/ThetaS3.jpg\"></a>\n",
    "\n",
    "# ROS Ricoh Theta S package\n",
    "These notebooks document the ROS package for the [Ricoh Theta S camera](https://theta360.com/en/about/theta/s.html) developed by [RobInLab (UJI)](http://robinlab.uji.es/) and [Project Chorale (INRIA Sophia-Antipolis)](https://project.inria.fr/chorale/).\n",
    "\n",
    "The source code is available at https://github.com/RobInLabUJI/ricoh_camera. \n",
    "\n",
    "This package is written in [Python 2.7](https://www.python.org/) with [OpenCV 3.3.1](https://docs.opencv.org/3.3.1/) and [ROS Kinetic](http://wiki.ros.org/kinetic), and it contains scripts for video capture and equirectangular projection of fisheye images. It also contains some notebooks for testing and development.\n",
    "\n",
    "The package has been installed in the laptop computer, at the ROS workspace `~/Desktop/RicohTheta_ws`, it has been compiled with `catkin_make`, and the following lines have been added to `.bashrc`:\n",
    "\n",
    "```\n",
    "source /opt/ros/kinetic/setup.bash\n",
    "source ~/Desktop/RicohTheta_ws/devel/setup.bash\n",
    "```"
   ]
  },
  {
   "cell_type": "markdown",
   "metadata": {},
   "source": [
    "## Documentation\n",
    "\n",
    "* Capture, display, and record\n",
    "  * [Video capture](capture.ipynb)\n",
    "  * [Stereo video capture](stereo_capture.ipynb)\n",
    "  * [Splitting images](splitting.ipynb)\n",
    "  * [Panospheric visualization](panospheric_visualization.ipynb)\n",
    "  * [Record rosbags](record_rosbags.ipynb)\n",
    "* Calibration\n",
    "  * [Intrinsic calibration of a single camera](intrinsic_single.ipynb)\n",
    "  * [Intrinsic and extrinsic calibration of the stereo system](intrinsic_extrinsic_stereo.ipynb)\n",
    "* Equirectangular projection\n",
    "  * [Single camera](eqrect_single.ipynb)\n",
    "  * [Stereo system](eqrect_stereo.ipynb)\n",
    "  * [Using rosbags](projection_with_rosbag.ipynb)\n",
    "* [Dense stereo disparity estimation](disparity_estimation.ipynb)\n",
    "* [Depth estimation](depth_estimation.ipynb)\n",
    "  * [Saving images](save_images.ipynb)\n",
    "* [Using Docker](using_docker.ipynb)"
   ]
  }
 ],
 "metadata": {
  "kernelspec": {
   "display_name": "Bash",
   "language": "bash",
   "name": "bash"
  },
  "language_info": {
   "codemirror_mode": "shell",
   "file_extension": ".sh",
   "mimetype": "text/x-sh",
   "name": "bash"
  }
 },
 "nbformat": 4,
 "nbformat_minor": 2
}
