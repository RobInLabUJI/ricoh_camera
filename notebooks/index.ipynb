{
 "cells": [
  {
   "cell_type": "markdown",
   "metadata": {},
   "source": [
    "<a href=\"https://theta360.com/en/about/theta/s.html\"><img style=\"float: right; height: 240px;\" src=\"img/ThetaS3.jpg\"></a>\n",
    "\n",
    "# ROS Ricoh Theta S package\n",
    "A ROS package for the Ricoh Theta S camera has been developed: https://github.com/RobInLabUJI/ricoh_camera. This package is mainly developed in Python, and it contains scripts for video capture and equirectangular projection of fisheye images. It also contains some Jupyter notebooks for testing and development.\n",
    "\n",
    "The package has been installed in the laptop computer, at the ROS workspace `~/Desktop/RicohTheta_ws`, it has been compiled with `catkin_make`, and the following lines have been added to `.bashrc`:\n",
    "\n",
    "```\n",
    "source /opt/ros/kinetic/setup.bash\n",
    "source ~/Desktop/RicohTheta_ws/devel/setup.bash\n",
    "```\n",
    "\n",
    "## Documentation\n",
    "\n",
    "* [Video Capture](capture.ipynb)"
   ]
  }
 ],
 "metadata": {
  "kernelspec": {
   "display_name": "Bash",
   "language": "bash",
   "name": "bash"
  },
  "language_info": {
   "codemirror_mode": "shell",
   "file_extension": ".sh",
   "mimetype": "text/x-sh",
   "name": "bash"
  }
 },
 "nbformat": 4,
 "nbformat_minor": 2
}
