{
 "cells": [
  {
   "cell_type": "markdown",
   "metadata": {},
   "source": [
    "# Video Capture\n",
    "\n",
    "For video capturing, the Ricoh Theta S camera should be started in [Live Streaming mode](http://theta360.guide/community-document/live-streaming.html#_theta_s_live_streaming_mode); this is achieved by pressing the shooting mode button and power button of the camera together for a few seconds.\n",
    "\n",
    "<img style=\"float: left;\" src=\"img/buttons.png\" /> <img src=\"img/connection.png\" />\n",
    "\n",
    "Now connect the camera to the USB3.0 video capture using a HDMI cable, then plug the capture device into the computer (make sure it is a **3.0** port). You may also keep the camera connected to the computer with the USB cable for battery charging."
   ]
  },
  {
   "cell_type": "markdown",
   "metadata": {},
   "source": [
    "The `capture.launch` script will read the video stream and display the images in an `image_view` window. You can directly execute it by selecting the next cell below and pressing `Shift+Enter`. For stopping it, click on the `Interrupt` button of the Jupyter toolbar.\n",
    "\n",
    "(if you prefer to use a good-old-terminal, just copy and paste the command :-)"
   ]
  },
  {
   "cell_type": "code",
   "execution_count": null,
   "metadata": {},
   "outputs": [],
   "source": [
    "roslaunch ricoh_camera capture.launch"
   ]
  },
  {
   "cell_type": "markdown",
   "metadata": {},
   "source": [
    "The displayed image should look like this example:\n",
    "\n",
    "<img src=\"img/capture_example.png\" />"
   ]
  },
  {
   "cell_type": "markdown",
   "metadata": {},
   "source": [
    "## Nodes\n",
    "\n",
    "### capture.py\n",
    "\n",
    "Simple grabber application with OpenCV.\n",
    "\n",
    "#### Published topics\n",
    "\n",
    "* `image_raw` ([sensor_msgs/Image](http://docs.ros.org/api/sensor_msgs/html/msg/Image.html)) <br>\n",
    "The image topic containing the two raw fisheye images.\n",
    "\n",
    "#### Parameters\n",
    "\n",
    "* `video_input` (`int`, default: 0) <br>\n",
    "The video device number: 0, 1, ...\n",
    "* `resolution` (`int`, default: 1280) <br>\n",
    "The horizontal video resolution, 1280 or 1920.\n",
    "* `frequency` (`int`, default: 30) <br>\n",
    "The framegrabber frequency, between 1 and 30 Hz."
   ]
  },
  {
   "cell_type": "markdown",
   "metadata": {},
   "source": [
    "## Examples"
   ]
  },
  {
   "cell_type": "code",
   "execution_count": null,
   "metadata": {},
   "outputs": [],
   "source": [
    "roslaunch ricoh_camera capture.launch video_input:=1"
   ]
  },
  {
   "cell_type": "code",
   "execution_count": null,
   "metadata": {},
   "outputs": [],
   "source": [
    "roslaunch ricoh_camera capture.launch resolution:=1920"
   ]
  },
  {
   "cell_type": "code",
   "execution_count": null,
   "metadata": {},
   "outputs": [],
   "source": [
    "roslaunch ricoh_camera capture.launch video_input:=0 frequency:=5"
   ]
  },
  {
   "cell_type": "markdown",
   "metadata": {},
   "source": [
    "## Implementation\n",
    "\n",
    "The capture node uses [OpenCV functions for video capture](https://docs.opencv.org/3.3.1/d8/dfe/classcv_1_1VideoCapture.html).\n",
    "\n",
    "You can try [a simple example in Python](capture_in_python.ipynb)."
   ]
  }
 ],
 "metadata": {
  "kernelspec": {
   "display_name": "Bash",
   "language": "bash",
   "name": "bash"
  },
  "language_info": {
   "codemirror_mode": "shell",
   "file_extension": ".sh",
   "mimetype": "text/x-sh",
   "name": "bash"
  }
 },
 "nbformat": 4,
 "nbformat_minor": 2
}
